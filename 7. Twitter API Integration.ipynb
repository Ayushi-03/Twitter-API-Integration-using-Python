{
 "cells": [
  {
   "cell_type": "code",
   "execution_count": 1,
   "metadata": {},
   "outputs": [
    {
     "name": "stdout",
     "output_type": "stream",
     "text": [
      "Requirement already satisfied: twython in c:\\users\\ayushi\\anaconda3\\lib\\site-packages (3.9.1)\n",
      "Requirement already satisfied: requests-oauthlib>=0.4.0 in c:\\users\\ayushi\\anaconda3\\lib\\site-packages (from twython) (1.3.1)\n",
      "Requirement already satisfied: requests>=2.1.0 in c:\\users\\ayushi\\anaconda3\\lib\\site-packages (from twython) (2.27.1)\n",
      "Requirement already satisfied: certifi>=2017.4.17 in c:\\users\\ayushi\\anaconda3\\lib\\site-packages (from requests>=2.1.0->twython) (2021.10.8)\n",
      "Requirement already satisfied: charset-normalizer~=2.0.0 in c:\\users\\ayushi\\anaconda3\\lib\\site-packages (from requests>=2.1.0->twython) (2.0.4)\n",
      "Requirement already satisfied: urllib3<1.27,>=1.21.1 in c:\\users\\ayushi\\anaconda3\\lib\\site-packages (from requests>=2.1.0->twython) (1.26.9)\n",
      "Requirement already satisfied: idna<4,>=2.5 in c:\\users\\ayushi\\anaconda3\\lib\\site-packages (from requests>=2.1.0->twython) (3.3)\n",
      "Requirement already satisfied: oauthlib>=3.0.0 in c:\\users\\ayushi\\anaconda3\\lib\\site-packages (from requests-oauthlib>=0.4.0->twython) (3.2.0)\n"
     ]
    }
   ],
   "source": [
    "!pip install twython"
   ]
  },
  {
   "cell_type": "code",
   "execution_count": 7,
   "metadata": {},
   "outputs": [
    {
     "name": "stdout",
     "output_type": "stream",
     "text": [
      "Requirement already satisfied: requests in c:\\users\\ayushi\\anaconda3\\lib\\site-packages (2.27.1)\n",
      "Requirement already satisfied: certifi>=2017.4.17 in c:\\users\\ayushi\\anaconda3\\lib\\site-packages (from requests) (2021.10.8)\n",
      "Requirement already satisfied: idna<4,>=2.5 in c:\\users\\ayushi\\anaconda3\\lib\\site-packages (from requests) (3.3)\n",
      "Requirement already satisfied: urllib3<1.27,>=1.21.1 in c:\\users\\ayushi\\anaconda3\\lib\\site-packages (from requests) (1.26.9)\n",
      "Requirement already satisfied: charset-normalizer~=2.0.0 in c:\\users\\ayushi\\anaconda3\\lib\\site-packages (from requests) (2.0.4)\n",
      "Requirement already satisfied: requests-oauthlib in c:\\users\\ayushi\\anaconda3\\lib\\site-packages (1.3.1)\n",
      "Requirement already satisfied: oauthlib>=3.0.0 in c:\\users\\ayushi\\anaconda3\\lib\\site-packages (from requests-oauthlib) (3.2.0)\n",
      "Requirement already satisfied: requests>=2.0.0 in c:\\users\\ayushi\\anaconda3\\lib\\site-packages (from requests-oauthlib) (2.27.1)\n",
      "Requirement already satisfied: certifi>=2017.4.17 in c:\\users\\ayushi\\anaconda3\\lib\\site-packages (from requests>=2.0.0->requests-oauthlib) (2021.10.8)\n",
      "Requirement already satisfied: charset-normalizer~=2.0.0 in c:\\users\\ayushi\\anaconda3\\lib\\site-packages (from requests>=2.0.0->requests-oauthlib) (2.0.4)\n",
      "Requirement already satisfied: urllib3<1.27,>=1.21.1 in c:\\users\\ayushi\\anaconda3\\lib\\site-packages (from requests>=2.0.0->requests-oauthlib) (1.26.9)\n",
      "Requirement already satisfied: idna<4,>=2.5 in c:\\users\\ayushi\\anaconda3\\lib\\site-packages (from requests>=2.0.0->requests-oauthlib) (3.3)\n"
     ]
    }
   ],
   "source": [
    "!pip install requests\n",
    "!pip install requests-oauthlib"
   ]
  },
  {
   "cell_type": "code",
   "execution_count": 8,
   "metadata": {},
   "outputs": [],
   "source": [
    "# conda install python\n",
    "from twython import Twython"
   ]
  },
  {
   "cell_type": "code",
   "execution_count": 13,
   "metadata": {},
   "outputs": [],
   "source": [
    "# developer.twitter.com/apps\n",
    "consumer_key='x8OEIMO3JTS75HxRE6xi6cOND'\n",
    "consumer_secret='va8tVf1Nsdy96OpSgC653ICPJw3XTv9b3KfC04ATv1tYmgHv8P'\n",
    "access_token='1469300237185339392-SENrduuxcvABVfUj0CjYCibWLzaThJ'\n",
    "access_token_secret='2p4EORrHyhyZxTFPBlz6j2pdu8eHvtar3Wt3nT7bfuZCQ'"
   ]
  },
  {
   "cell_type": "code",
   "execution_count": 14,
   "metadata": {},
   "outputs": [],
   "source": [
    "twitter = Twython(consumer_key, consumer_secret, access_token, access_token_secret)"
   ]
  },
  {
   "cell_type": "code",
   "execution_count": 17,
   "metadata": {},
   "outputs": [
    {
     "name": "stdout",
     "output_type": "stream",
     "text": [
      "{'statuses': [{'created_at': 'Tue Jul 26 09:04:05 +0000 2022', 'id': 1551855867586387972, 'id_str': '1551855867586387972', 'text': \"🚨 Leeds United have added Real Madrid's 20-year-old Spanish left-back Miguel Gutierrez to their short transfer list… https://t.co/Wo6tNW0DMk\", 'truncated': True, 'entities': {'hashtags': [], 'symbols': [], 'user_mentions': [], 'urls': [{'url': 'https://t.co/Wo6tNW0DMk', 'expanded_url': 'https://twitter.com/i/web/status/1551855867586387972', 'display_url': 'twitter.com/i/web/status/1…', 'indices': [117, 140]}]}, 'metadata': {'result_type': 'popular', 'iso_language_code': 'en'}, 'source': '<a href=\"http://twitter.com/download/android\" rel=\"nofollow\">Twitter for Android</a>', 'in_reply_to_status_id': None, 'in_reply_to_status_id_str': None, 'in_reply_to_user_id': None, 'in_reply_to_user_id_str': None, 'in_reply_to_screen_name': None, 'user': {'id': 92081306, 'id_str': '92081306', 'name': 'Ekrem KONUR', 'screen_name': 'Ekremkonur', 'location': '', 'description': 'Latest #Transfer #Transferência #Mercato news from all over the world. 🚨🔜⌛ @CalcioPillole @fichajesnet', 'url': 'https://t.co/lAVuLM2WLK', 'entities': {'url': {'urls': [{'url': 'https://t.co/lAVuLM2WLK', 'expanded_url': 'https://www.instagram.com/ekremkonurofficial/', 'display_url': 'instagram.com/ekremkonuroffi…', 'indices': [0, 23]}]}, 'description': {'urls': []}}, 'protected': False, 'followers_count': 210442, 'friends_count': 1460, 'listed_count': 691, 'created_at': 'Mon Nov 23 18:31:30 +0000 2009', 'favourites_count': 58962, 'utc_offset': None, 'time_zone': None, 'geo_enabled': True, 'verified': True, 'statuses_count': 40619, 'lang': None, 'contributors_enabled': False, 'is_translator': False, 'is_translation_enabled': False, 'profile_background_color': '89C9FA', 'profile_background_image_url': 'http://abs.twimg.com/images/themes/theme1/bg.png', 'profile_background_image_url_https': 'https://abs.twimg.com/images/themes/theme1/bg.png', 'profile_background_tile': True, 'profile_image_url': 'http://pbs.twimg.com/profile_images/1551217208499609600/i4bO-lWL_normal.jpg', 'profile_image_url_https': 'https://pbs.twimg.com/profile_images/1551217208499609600/i4bO-lWL_normal.jpg', 'profile_banner_url': 'https://pbs.twimg.com/profile_banners/92081306/1658774703', 'profile_link_color': '1B95E0', 'profile_sidebar_border_color': '000000', 'profile_sidebar_fill_color': '000000', 'profile_text_color': '000000', 'profile_use_background_image': True, 'has_extended_profile': True, 'default_profile': False, 'default_profile_image': False, 'following': False, 'follow_request_sent': False, 'notifications': False, 'translator_type': 'regular', 'withheld_in_countries': []}, 'geo': None, 'coordinates': None, 'place': None, 'contributors': None, 'is_quote_status': False, 'retweet_count': 100, 'favorite_count': 875, 'favorited': False, 'retweeted': False, 'possibly_sensitive': False, 'lang': 'en'}, {'created_at': 'Sun Jul 24 09:02:21 +0000 2022', 'id': 1551130654670295041, 'id_str': '1551130654670295041', 'text': 'Even though we couldn’t win, I’m happy having felt all the love from so many Madridistas in Las Vegas #HalaMadrid… https://t.co/XfePjZv7dC', 'truncated': True, 'entities': {'hashtags': [{'text': 'HalaMadrid', 'indices': [102, 113]}], 'symbols': [], 'user_mentions': [], 'urls': [{'url': 'https://t.co/XfePjZv7dC', 'expanded_url': 'https://twitter.com/i/web/status/1551130654670295041', 'display_url': 'twitter.com/i/web/status/1…', 'indices': [115, 138]}]}, 'metadata': {'result_type': 'popular', 'iso_language_code': 'en'}, 'source': '<a href=\"http://twitter.com/download/iphone\" rel=\"nofollow\">Twitter for iPhone</a>', 'in_reply_to_status_id': None, 'in_reply_to_status_id_str': None, 'in_reply_to_user_id': None, 'in_reply_to_user_id_str': None, 'in_reply_to_screen_name': None, 'user': {'id': 71308607, 'id_str': '71308607', 'name': 'Thibaut Courtois', 'screen_name': 'thibautcourtois', 'location': '', 'description': 'Official Twitter of Thibaut Courtois Goalkeeper of @realmadrid and @BelRedDevils.', 'url': 'https://t.co/zI1eMvB2fV', 'entities': {'url': {'urls': [{'url': 'https://t.co/zI1eMvB2fV', 'expanded_url': 'http://thibautcourtois.com', 'display_url': 'thibautcourtois.com', 'indices': [0, 23]}]}, 'description': {'urls': []}}, 'protected': False, 'followers_count': 3264420, 'friends_count': 955, 'listed_count': 3940, 'created_at': 'Thu Sep 03 17:27:55 +0000 2009', 'favourites_count': 6725, 'utc_offset': None, 'time_zone': None, 'geo_enabled': True, 'verified': True, 'statuses_count': 3053, 'lang': None, 'contributors_enabled': False, 'is_translator': False, 'is_translation_enabled': False, 'profile_background_color': 'C0DEED', 'profile_background_image_url': 'http://abs.twimg.com/images/themes/theme1/bg.png', 'profile_background_image_url_https': 'https://abs.twimg.com/images/themes/theme1/bg.png', 'profile_background_tile': False, 'profile_image_url': 'http://pbs.twimg.com/profile_images/1073253861119406080/Jhfsra9S_normal.jpg', 'profile_image_url_https': 'https://pbs.twimg.com/profile_images/1073253861119406080/Jhfsra9S_normal.jpg', 'profile_banner_url': 'https://pbs.twimg.com/profile_banners/71308607/1545145517', 'profile_link_color': '0084B4', 'profile_sidebar_border_color': 'FFFFFF', 'profile_sidebar_fill_color': 'DDEEF6', 'profile_text_color': '333333', 'profile_use_background_image': False, 'has_extended_profile': False, 'default_profile': False, 'default_profile_image': False, 'following': False, 'follow_request_sent': False, 'notifications': False, 'translator_type': 'none', 'withheld_in_countries': []}, 'geo': None, 'coordinates': None, 'place': None, 'contributors': None, 'is_quote_status': False, 'retweet_count': 368, 'favorite_count': 6923, 'favorited': False, 'retweeted': False, 'possibly_sensitive': False, 'lang': 'en'}, {'created_at': 'Mon Jul 25 07:00:57 +0000 2022', 'id': 1551462493813460992, 'id_str': '1551462493813460992', 'text': '🚨Getafe are in advanced talks with Real Madrid to transfer 25-year-old Spanish striker Borja Mayoral.🇪🇸  #Getafe… https://t.co/Fm3ZMHUpcX', 'truncated': True, 'entities': {'hashtags': [{'text': 'Getafe', 'indices': [105, 112]}], 'symbols': [], 'user_mentions': [], 'urls': [{'url': 'https://t.co/Fm3ZMHUpcX', 'expanded_url': 'https://twitter.com/i/web/status/1551462493813460992', 'display_url': 'twitter.com/i/web/status/1…', 'indices': [114, 137]}]}, 'metadata': {'result_type': 'popular', 'iso_language_code': 'en'}, 'source': '<a href=\"http://twitter.com/download/android\" rel=\"nofollow\">Twitter for Android</a>', 'in_reply_to_status_id': None, 'in_reply_to_status_id_str': None, 'in_reply_to_user_id': None, 'in_reply_to_user_id_str': None, 'in_reply_to_screen_name': None, 'user': {'id': 92081306, 'id_str': '92081306', 'name': 'Ekrem KONUR', 'screen_name': 'Ekremkonur', 'location': '', 'description': 'Latest #Transfer #Transferência #Mercato news from all over the world. 🚨🔜⌛ @CalcioPillole @fichajesnet', 'url': 'https://t.co/lAVuLM2WLK', 'entities': {'url': {'urls': [{'url': 'https://t.co/lAVuLM2WLK', 'expanded_url': 'https://www.instagram.com/ekremkonurofficial/', 'display_url': 'instagram.com/ekremkonuroffi…', 'indices': [0, 23]}]}, 'description': {'urls': []}}, 'protected': False, 'followers_count': 210442, 'friends_count': 1460, 'listed_count': 691, 'created_at': 'Mon Nov 23 18:31:30 +0000 2009', 'favourites_count': 58962, 'utc_offset': None, 'time_zone': None, 'geo_enabled': True, 'verified': True, 'statuses_count': 40619, 'lang': None, 'contributors_enabled': False, 'is_translator': False, 'is_translation_enabled': False, 'profile_background_color': '89C9FA', 'profile_background_image_url': 'http://abs.twimg.com/images/themes/theme1/bg.png', 'profile_background_image_url_https': 'https://abs.twimg.com/images/themes/theme1/bg.png', 'profile_background_tile': True, 'profile_image_url': 'http://pbs.twimg.com/profile_images/1551217208499609600/i4bO-lWL_normal.jpg', 'profile_image_url_https': 'https://pbs.twimg.com/profile_images/1551217208499609600/i4bO-lWL_normal.jpg', 'profile_banner_url': 'https://pbs.twimg.com/profile_banners/92081306/1658774703', 'profile_link_color': '1B95E0', 'profile_sidebar_border_color': '000000', 'profile_sidebar_fill_color': '000000', 'profile_text_color': '000000', 'profile_use_background_image': True, 'has_extended_profile': True, 'default_profile': False, 'default_profile_image': False, 'following': False, 'follow_request_sent': False, 'notifications': False, 'translator_type': 'regular', 'withheld_in_countries': []}, 'geo': None, 'coordinates': None, 'place': None, 'contributors': None, 'is_quote_status': False, 'retweet_count': 26, 'favorite_count': 392, 'favorited': False, 'retweeted': False, 'possibly_sensitive': False, 'lang': 'en'}, {'created_at': 'Fri Jul 22 07:30:00 +0000 2022', 'id': 1550382638124265472, 'id_str': '1550382638124265472', 'text': '🎊🎂🎁 HAPPY BIRTHDAY to @fedeevalverde, who turns 2️⃣4️⃣ today!\\n🥳 #HalaMadrid 🥳 https://t.co/eBvMheoOGo', 'truncated': False, 'entities': {'hashtags': [{'text': 'HalaMadrid', 'indices': [64, 75]}], 'symbols': [], 'user_mentions': [{'screen_name': 'fedeevalverde', 'name': 'Fede Valverde', 'id': 2779787607, 'id_str': '2779787607', 'indices': [22, 36]}], 'urls': [], 'media': [{'id': 1550381669831565313, 'id_str': '1550381669831565313', 'indices': [78, 101], 'media_url': 'http://pbs.twimg.com/media/FYQP6hiWYAEk4Gm.jpg', 'media_url_https': 'https://pbs.twimg.com/media/FYQP6hiWYAEk4Gm.jpg', 'url': 'https://t.co/eBvMheoOGo', 'display_url': 'pic.twitter.com/eBvMheoOGo', 'expanded_url': 'https://twitter.com/realmadriden/status/1550382638124265472/photo/1', 'type': 'photo', 'sizes': {'thumb': {'w': 150, 'h': 150, 'resize': 'crop'}, 'medium': {'w': 960, 'h': 1200, 'resize': 'fit'}, 'large': {'w': 1080, 'h': 1350, 'resize': 'fit'}, 'small': {'w': 544, 'h': 680, 'resize': 'fit'}}}]}, 'extended_entities': {'media': [{'id': 1550381669831565313, 'id_str': '1550381669831565313', 'indices': [78, 101], 'media_url': 'http://pbs.twimg.com/media/FYQP6hiWYAEk4Gm.jpg', 'media_url_https': 'https://pbs.twimg.com/media/FYQP6hiWYAEk4Gm.jpg', 'url': 'https://t.co/eBvMheoOGo', 'display_url': 'pic.twitter.com/eBvMheoOGo', 'expanded_url': 'https://twitter.com/realmadriden/status/1550382638124265472/photo/1', 'type': 'photo', 'sizes': {'thumb': {'w': 150, 'h': 150, 'resize': 'crop'}, 'medium': {'w': 960, 'h': 1200, 'resize': 'fit'}, 'large': {'w': 1080, 'h': 1350, 'resize': 'fit'}, 'small': {'w': 544, 'h': 680, 'resize': 'fit'}}}]}, 'metadata': {'result_type': 'popular', 'iso_language_code': 'en'}, 'source': '<a href=\"https://about.twitter.com/products/tweetdeck\" rel=\"nofollow\">TweetDeck</a>', 'in_reply_to_status_id': None, 'in_reply_to_status_id_str': None, 'in_reply_to_user_id': None, 'in_reply_to_user_id_str': None, 'in_reply_to_screen_name': None, 'user': {'id': 452155423, 'id_str': '452155423', 'name': 'Real Madrid C.F. 🇬🇧🇺🇸', 'screen_name': 'realmadriden', 'location': 'Madrid, Spain', 'description': '⚽️ Official account of Real Madrid C.F. 🏆@realmadrid: 🇪🇸. @realmadridfra: 🇫🇷. @realmadridarab: العربية. @realmadridjapan: 🇯🇵.', 'url': 'https://t.co/KWhO2am0BK', 'entities': {'url': {'urls': [{'url': 'https://t.co/KWhO2am0BK', 'expanded_url': 'https://soccerchampionstour.com/', 'display_url': 'soccerchampionstour.com', 'indices': [0, 23]}]}, 'description': {'urls': []}}, 'protected': False, 'followers_count': 14803571, 'friends_count': 62, 'listed_count': 10857, 'created_at': 'Sun Jan 01 13:52:31 +0000 2012', 'favourites_count': 405, 'utc_offset': None, 'time_zone': None, 'geo_enabled': True, 'verified': True, 'statuses_count': 56288, 'lang': None, 'contributors_enabled': False, 'is_translator': False, 'is_translation_enabled': True, 'profile_background_color': 'C0DEED', 'profile_background_image_url': 'http://abs.twimg.com/images/themes/theme1/bg.png', 'profile_background_image_url_https': 'https://abs.twimg.com/images/themes/theme1/bg.png', 'profile_background_tile': False, 'profile_image_url': 'http://pbs.twimg.com/profile_images/1488084695061520385/C63LlmVE_normal.jpg', 'profile_image_url_https': 'https://pbs.twimg.com/profile_images/1488084695061520385/C63LlmVE_normal.jpg', 'profile_banner_url': 'https://pbs.twimg.com/profile_banners/452155423/1658260764', 'profile_link_color': '0084B4', 'profile_sidebar_border_color': 'FFFFFF', 'profile_sidebar_fill_color': 'DDEEF6', 'profile_text_color': '333333', 'profile_use_background_image': True, 'has_extended_profile': False, 'default_profile': False, 'default_profile_image': False, 'following': False, 'follow_request_sent': False, 'notifications': False, 'translator_type': 'regular', 'withheld_in_countries': []}, 'geo': None, 'coordinates': None, 'place': None, 'contributors': None, 'is_quote_status': False, 'retweet_count': 451, 'favorite_count': 7604, 'favorited': False, 'retweeted': False, 'possibly_sensitive': False, 'lang': 'en'}, {'created_at': 'Wed Jul 20 08:29:12 +0000 2022', 'id': 1549672759881596928, 'id_str': '1549672759881596928', 'text': '🚨 Real Madrid have added French players Amine Gouiri, 22, and Ryan Cherki, 18, to their short transfer list. \\n\\n⚪… https://t.co/WqLijqTIvI', 'truncated': True, 'entities': {'hashtags': [], 'symbols': [], 'user_mentions': [], 'urls': [{'url': 'https://t.co/WqLijqTIvI', 'expanded_url': 'https://twitter.com/i/web/status/1549672759881596928', 'display_url': 'twitter.com/i/web/status/1…', 'indices': [114, 137]}]}, 'metadata': {'result_type': 'popular', 'iso_language_code': 'en'}, 'source': '<a href=\"http://twitter.com/download/android\" rel=\"nofollow\">Twitter for Android</a>', 'in_reply_to_status_id': None, 'in_reply_to_status_id_str': None, 'in_reply_to_user_id': None, 'in_reply_to_user_id_str': None, 'in_reply_to_screen_name': None, 'user': {'id': 92081306, 'id_str': '92081306', 'name': 'Ekrem KONUR', 'screen_name': 'Ekremkonur', 'location': '', 'description': 'Latest #Transfer #Transferência #Mercato news from all over the world. 🚨🔜⌛ @CalcioPillole @fichajesnet', 'url': 'https://t.co/lAVuLM2WLK', 'entities': {'url': {'urls': [{'url': 'https://t.co/lAVuLM2WLK', 'expanded_url': 'https://www.instagram.com/ekremkonurofficial/', 'display_url': 'instagram.com/ekremkonuroffi…', 'indices': [0, 23]}]}, 'description': {'urls': []}}, 'protected': False, 'followers_count': 210442, 'friends_count': 1460, 'listed_count': 691, 'created_at': 'Mon Nov 23 18:31:30 +0000 2009', 'favourites_count': 58962, 'utc_offset': None, 'time_zone': None, 'geo_enabled': True, 'verified': True, 'statuses_count': 40619, 'lang': None, 'contributors_enabled': False, 'is_translator': False, 'is_translation_enabled': False, 'profile_background_color': '89C9FA', 'profile_background_image_url': 'http://abs.twimg.com/images/themes/theme1/bg.png', 'profile_background_image_url_https': 'https://abs.twimg.com/images/themes/theme1/bg.png', 'profile_background_tile': True, 'profile_image_url': 'http://pbs.twimg.com/profile_images/1551217208499609600/i4bO-lWL_normal.jpg', 'profile_image_url_https': 'https://pbs.twimg.com/profile_images/1551217208499609600/i4bO-lWL_normal.jpg', 'profile_banner_url': 'https://pbs.twimg.com/profile_banners/92081306/1658774703', 'profile_link_color': '1B95E0', 'profile_sidebar_border_color': '000000', 'profile_sidebar_fill_color': '000000', 'profile_text_color': '000000', 'profile_use_background_image': True, 'has_extended_profile': True, 'default_profile': False, 'default_profile_image': False, 'following': False, 'follow_request_sent': False, 'notifications': False, 'translator_type': 'regular', 'withheld_in_countries': []}, 'geo': None, 'coordinates': None, 'place': None, 'contributors': None, 'is_quote_status': False, 'retweet_count': 96, 'favorite_count': 1236, 'favorited': False, 'retweeted': False, 'possibly_sensitive': False, 'lang': 'en'}], 'search_metadata': {'completed_in': 0.038, 'max_id': 0, 'max_id_str': '0', 'next_results': '?max_id=1549672759881596927&q=HalaMadrid&lang=en&count=5&include_entities=1&result_type=popular', 'query': 'HalaMadrid', 'count': 5, 'since_id': 0, 'since_id_str': '0'}}\n"
     ]
    }
   ],
   "source": [
    "result_dict = twitter.search(q='HalaMadrid' , lang='en',\n",
    "                            count=5,result_type = 'popular')\n",
    "print(result_dict)"
   ]
  },
  {
   "cell_type": "code",
   "execution_count": 18,
   "metadata": {},
   "outputs": [
    {
     "name": "stdout",
     "output_type": "stream",
     "text": [
      "🚨 Leeds United have added Real Madrid's 20-year-old Spanish left-back Miguel Gutierrez to their short transfer list… https://t.co/Wo6tNW0DMk\n",
      "###########################\n",
      "Even though we couldn’t win, I’m happy having felt all the love from so many Madridistas in Las Vegas #HalaMadrid… https://t.co/XfePjZv7dC\n",
      "###########################\n",
      "🚨Getafe are in advanced talks with Real Madrid to transfer 25-year-old Spanish striker Borja Mayoral.🇪🇸  #Getafe… https://t.co/Fm3ZMHUpcX\n",
      "###########################\n",
      "🎊🎂🎁 HAPPY BIRTHDAY to @fedeevalverde, who turns 2️⃣4️⃣ today!\n",
      "🥳 #HalaMadrid 🥳 https://t.co/eBvMheoOGo\n",
      "###########################\n",
      "🚨 Real Madrid have added French players Amine Gouiri, 22, and Ryan Cherki, 18, to their short transfer list. \n",
      "\n",
      "⚪… https://t.co/WqLijqTIvI\n",
      "###########################\n"
     ]
    }
   ],
   "source": [
    "list_tweets = result_dict['statuses']\n",
    "for tweet in list_tweets:\n",
    "    print(tweet['text'])\n",
    "    print('###########################')"
   ]
  },
  {
   "cell_type": "code",
   "execution_count": null,
   "metadata": {},
   "outputs": [],
   "source": []
  }
 ],
 "metadata": {
  "kernelspec": {
   "display_name": "Python 3 (ipykernel)",
   "language": "python",
   "name": "python3"
  },
  "language_info": {
   "codemirror_mode": {
    "name": "ipython",
    "version": 3
   },
   "file_extension": ".py",
   "mimetype": "text/x-python",
   "name": "python",
   "nbconvert_exporter": "python",
   "pygments_lexer": "ipython3",
   "version": "3.9.12"
  },
  "toc": {
   "base_numbering": 1,
   "nav_menu": {},
   "number_sections": false,
   "sideBar": false,
   "skip_h1_title": false,
   "title_cell": "Table of Contents",
   "title_sidebar": "Contents",
   "toc_cell": false,
   "toc_position": {},
   "toc_section_display": false,
   "toc_window_display": false
  }
 },
 "nbformat": 4,
 "nbformat_minor": 4
}
